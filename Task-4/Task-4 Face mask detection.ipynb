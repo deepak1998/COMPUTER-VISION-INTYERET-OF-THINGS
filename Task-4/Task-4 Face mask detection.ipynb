{
 "cells": [
  {
   "cell_type": "markdown",
   "source": [
    "# #GRIP_AUGUST21\r\n",
    "\r\n",
    "# NAME: DEEPAK KUMAR YADAV\r\n",
    "\r\n",
    "# TASK-4 FACE MASK DETECTION"
   ],
   "metadata": {}
  },
  {
   "cell_type": "code",
   "execution_count": 1,
   "source": [
    "import numpy as np\r\n",
    "import cv2\r\n",
    "import random\r\n",
    "\r\n",
    "# multiple cascades: https://github.com/Itseez/opencv/tree/master/data/haarcascades\r\n",
    "\r\n",
    "face_cascade = cv2.CascadeClassifier('C:\\Users\\Admin\\Desktop\\New folder (2)\\Task-4 Face Mask Detection\\Face_Mask_Detection\\Face_Mask_Detection\\data\\xml\\haarcascade_frontalface_default.xml')\r\n",
    "eye_cascade = cv2.CascadeClassifier('C:\\Users\\Admin\\Desktop\\New folder (2)\\Task-4 Face Mask Detection\\Face_Mask_Detection\\Face_Mask_Detection\\data\\xml\\haarcascade_frontalface_default.xml')\r\n",
    "mouth_cascade = cv2.CascadeClassifier('C:\\Users\\Admin\\Desktop\\New folder (2)\\Task-4 Face Mask Detection\\Face_Mask_Detection\\Face_Mask_Detection\\data\\xml\\haarcascade_mcs_mouth.xml')\r\n",
    "upper_body = cv2.CascadeClassifier('C:\\Users\\Admin\\Desktop\\New folder (2)\\Task-4 Face Mask Detection\\Face_Mask_Detection\\Face_Mask_Detection\\data\\xml\\haarcascade_upperbody.xml')\r\n",
    "\r\n",
    "# Adjust threshold value in range 80 to 105 based on your light.\r\n",
    "bw_threshold = 80\r\n",
    "\r\n",
    "# User message\r\n",
    "font = cv2.FONT_HERSHEY_SIMPLEX\r\n",
    "org = (30, 30)\r\n",
    "weared_mask_font_color = (255, 255, 255)\r\n",
    "not_weared_mask_font_color = (0, 0, 255)\r\n",
    "thickness = 2\r\n",
    "font_scale = 1\r\n",
    "weared_mask = \"Thank You for wearing MASK\"\r\n",
    "not_weared_mask = \"Please wear MASK to defeat Corona\"\r\n",
    "\r\n",
    "# Read video\r\n",
    "cap = cv2.VideoCapture(0)\r\n",
    "\r\n",
    "while 1:\r\n",
    "    # Get individual frame\r\n",
    "    ret, img = cap.read()\r\n",
    "    img = cv2.flip(img,1)\r\n",
    "\r\n",
    "    # Convert Image into gray\r\n",
    "    gray = cv2.cvtColor(img, cv2.COLOR_BGR2GRAY)\r\n",
    "\r\n",
    "    # Convert image in black and white\r\n",
    "    (thresh, black_and_white) = cv2.threshold(gray, bw_threshold, 255, cv2.THRESH_BINARY)\r\n",
    "    #cv2.imshow('black_and_white', black_and_white)\r\n",
    "\r\n",
    "    # detect face\r\n",
    "    faces = face_cascade.detectMultiScale(gray, 1.1, 4)\r\n",
    "\r\n",
    "    # Face prediction for black and white\r\n",
    "    faces_bw = face_cascade.detectMultiScale(black_and_white, 1.1, 4)\r\n",
    "\r\n",
    "\r\n",
    "    if(len(faces) == 0 and len(faces_bw) == 0):\r\n",
    "        cv2.putText(img, \"No face found...\", org, font, font_scale, weared_mask_font_color, thickness, cv2.LINE_AA)\r\n",
    "    elif(len(faces) == 0 and len(faces_bw) == 1):\r\n",
    "        # It has been observed that for white mask covering mouth, with gray image face prediction is not happening\r\n",
    "        cv2.putText(img, weared_mask, org, font, font_scale, weared_mask_font_color, thickness, cv2.LINE_AA)\r\n",
    "    else:\r\n",
    "        # Draw rectangle on gace\r\n",
    "        for (x, y, w, h) in faces:\r\n",
    "            cv2.rectangle(img, (x, y), (x + w, y + h), (255, 255, 255), 2)\r\n",
    "            roi_gray = gray[y:y + h, x:x + w]\r\n",
    "            roi_color = img[y:y + h, x:x + w]\r\n",
    "\r\n",
    "\r\n",
    "            # Detect lips counters\r\n",
    "            mouth_rects = mouth_cascade.detectMultiScale(gray, 1.5, 5)\r\n",
    "\r\n",
    "        # Face detected but Lips not detected which means person is wearing mask\r\n",
    "        if(len(mouth_rects) == 0):\r\n",
    "            cv2.putText(img, weared_mask, org, font, font_scale, weared_mask_font_color, thickness, cv2.LINE_AA)\r\n",
    "        else:\r\n",
    "            for (mx, my, mw, mh) in mouth_rects:\r\n",
    "\r\n",
    "                if(y < my < y + h):\r\n",
    "                    # Face and Lips are detected but lips coordinates are within face cordinates which `means lips prediction is true and\r\n",
    "                    # person is not waring mask\r\n",
    "                    cv2.putText(img, not_weared_mask, org, font, font_scale, not_weared_mask_font_color, thickness, cv2.LINE_AA)\r\n",
    "\r\n",
    "                    #cv2.rectangle(img, (mx, my), (mx + mh, my + mw), (0, 0, 255), 3)\r\n",
    "                    break\r\n",
    "\r\n",
    "    # Show frame with results\r\n",
    "    cv2.imshow('Mask Detection', img)\r\n",
    "    k = cv2.waitKey(30) & 0xff\r\n",
    "    if k == 27:\r\n",
    "        break\r\n",
    "        \r\n",
    "# Release video\r\n",
    "cap.release()\r\n",
    "cv2.destroyAllWindows()\r\n",
    "        "
   ],
   "outputs": [
    {
     "output_type": "error",
     "ename": "SyntaxError",
     "evalue": "(unicode error) 'unicodeescape' codec can't decode bytes in position 2-3: truncated \\UXXXXXXXX escape (Temp/ipykernel_7144/2247195102.py, line 7)",
     "traceback": [
      "\u001b[1;36m  File \u001b[1;32m\"C:\\Users\\Admin\\AppData\\Local\\Temp/ipykernel_7144/2247195102.py\"\u001b[1;36m, line \u001b[1;32m7\u001b[0m\n\u001b[1;33m    face_cascade = cv2.CascadeClassifier('C:\\Users\\Admin\\Desktop\\New folder (2)\\Task-4 Face Mask Detection\\Face_Mask_Detection\\Face_Mask_Detection\\data\\xml\\haarcascade_frontalface_default.xml')\u001b[0m\n\u001b[1;37m                                        ^\u001b[0m\n\u001b[1;31mSyntaxError\u001b[0m\u001b[1;31m:\u001b[0m (unicode error) 'unicodeescape' codec can't decode bytes in position 2-3: truncated \\UXXXXXXXX escape\n"
     ]
    }
   ],
   "metadata": {}
  },
  {
   "cell_type": "code",
   "execution_count": 2,
   "source": [],
   "outputs": [],
   "metadata": {}
  }
 ],
 "metadata": {
  "kernelspec": {
   "name": "python3",
   "display_name": "Python 3.7.0 64-bit"
  },
  "language_info": {
   "codemirror_mode": {
    "name": "ipython",
    "version": 3
   },
   "file_extension": ".py",
   "mimetype": "text/x-python",
   "name": "python",
   "nbconvert_exporter": "python",
   "pygments_lexer": "ipython3",
   "version": "3.7.0"
  },
  "interpreter": {
   "hash": "684b1123683431d89d3bfe9a89cc763215f4b8cd94b4aba1fb40ad45ff7c8b41"
  }
 },
 "nbformat": 4,
 "nbformat_minor": 5
}