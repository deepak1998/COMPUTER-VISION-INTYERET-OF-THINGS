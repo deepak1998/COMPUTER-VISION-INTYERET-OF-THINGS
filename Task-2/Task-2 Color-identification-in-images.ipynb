{
 "cells": [
  {
   "cell_type": "markdown",
   "source": [
    "# #GRIP_SEP21\r\n",
    "\r\n",
    "# NAME: DEEPAK KUMAR YADAV\r\n",
    "\r\n",
    "# TASK-2 COLOR IDENTIFICATION IN IMAGES"
   ],
   "metadata": {}
  },
  {
   "cell_type": "markdown",
   "source": [
    "Importing libraries"
   ],
   "metadata": {}
  },
  {
   "cell_type": "code",
   "execution_count": 1,
   "source": [
    "import cv2\r\n",
    "import pandas as pd"
   ],
   "outputs": [],
   "metadata": {}
  },
  {
   "cell_type": "markdown",
   "source": [
    "Saving image and csv file path into variables "
   ],
   "metadata": {}
  },
  {
   "cell_type": "code",
   "execution_count": null,
   "source": [
    "img_path = 'task2.jpg'\r\n",
    "csv_path = 'colors.csv'"
   ],
   "outputs": [],
   "metadata": {}
  },
  {
   "cell_type": "markdown",
   "source": [
    "Reading csv files"
   ],
   "metadata": {}
  },
  {
   "cell_type": "code",
   "execution_count": null,
   "source": [
    "index = ['color','color_name','hex','R','G','B']\r\n",
    "df = pd.read_csv(csv_path, names=index,header = None)"
   ],
   "outputs": [],
   "metadata": {}
  },
  {
   "cell_type": "markdown",
   "source": [
    "Reading image"
   ],
   "metadata": {}
  },
  {
   "cell_type": "code",
   "execution_count": null,
   "source": [
    "#Reading the image\r\n",
    "\r\n",
    "img = cv2.imread(img_path)\r\n",
    "\r\n",
    "#Resizing the image to 800x600\r\n",
    "\r\n",
    "img = cv2.resize(img,(800,600))"
   ],
   "outputs": [],
   "metadata": {}
  },
  {
   "cell_type": "code",
   "execution_count": null,
   "source": [
    "#Initializing the variables\r\n",
    "\r\n",
    "clicked = False\r\n",
    "r = g = b = xpos = ypos = 0"
   ],
   "outputs": [],
   "metadata": {}
  },
  {
   "cell_type": "code",
   "execution_count": null,
   "source": [
    "#Function to compare the RGB values on (x,y) coordinates of the image\r\n",
    "#Returning the color name\r\n",
    "\r\n",
    "def get_color_name(R,G,B):\r\n",
    "    minimum = 1000\r\n",
    "    for i in range(len(df)):\r\n",
    "        d = abs(R-int(df.loc[i,'R'])) + abs(G-int(df.loc[i,'G'])) + abs(B-int(df.loc[i,'B']))\r\n",
    "        if d <= minimum:\r\n",
    "            minimum = d\r\n",
    "            cname = df.loc[i,'color_name']\r\n",
    "    return cname"
   ],
   "outputs": [],
   "metadata": {}
  },
  {
   "cell_type": "code",
   "execution_count": null,
   "source": [
    "#Function to get the coordinates of the mouse pointer when double clicked on the image\r\n",
    "#Saving the RGB values on those coordinates into the variables\r\n",
    "\r\n",
    "def draw_function(event,x,y,flags,params):\r\n",
    "    if event == cv2.EVENT_LBUTTONDBLCLK:\r\n",
    "        global clicked,r,g,b,xpos,ypos\r\n",
    "        clicked = True\r\n",
    "        xpos = x\r\n",
    "        ypos = y\r\n",
    "        b,g,r = img[y,x]\r\n",
    "        b = int(b)\r\n",
    "        g = int(g)\r\n",
    "        r = int(r)"
   ],
   "outputs": [],
   "metadata": {}
  },
  {
   "cell_type": "code",
   "execution_count": null,
   "source": [
    "#Creating the window for image\r\n",
    "\r\n",
    "cv2.namedWindow('image')\r\n",
    "\r\n",
    "#Binding the draw_function to the mouse pointer\r\n",
    "\r\n",
    "cv2.setMouseCallback('image', draw_function)\r\n",
    "\r\n",
    "while True:\r\n",
    "    cv2.imshow('image',img)\r\n",
    "    if clicked:\r\n",
    "        #Making a colored strip to show our text on\r\n",
    "        cv2.rectangle(img, (20,20), (600,60),(b,g,r), -1)\r\n",
    "\r\n",
    "        #Getting the color name and storing in text variable\r\n",
    "        text = get_color_name(r,g,b) + 'R='+ str(r) + 'G=' + str(g) + 'B=' + str(b)\r\n",
    "\r\n",
    "        #Putting the text onto the strip that we created above\r\n",
    "        cv2.putText(img,text,(50,50),2,0.8,(255,255,255),2,cv2.LINE_AA)\r\n",
    "\r\n",
    "\r\n",
    "        if r+g+b >= 600: #If the colors are dim\r\n",
    "            cv2.putText(img,text,(50,50),2,0.8,(0,0,0),2,cv2.LINE_AA) #We want our text to be black\r\n",
    "\r\n",
    "    if cv2.waitKey(20) & 0xFF == 27:\r\n",
    "        break\r\n",
    "cv2.waitKey(0)\r\n",
    "cv2.destroyAllWindows()\r\n"
   ],
   "outputs": [],
   "metadata": {}
  },
  {
   "cell_type": "code",
   "execution_count": null,
   "source": [],
   "outputs": [],
   "metadata": {}
  }
 ],
 "metadata": {
  "kernelspec": {
   "name": "python3",
   "display_name": "Python 3.9.7 64-bit (windows store)"
  },
  "language_info": {
   "codemirror_mode": {
    "name": "ipython",
    "version": 3
   },
   "file_extension": ".py",
   "mimetype": "text/x-python",
   "name": "python",
   "nbconvert_exporter": "python",
   "pygments_lexer": "ipython3",
   "version": "3.9.7"
  },
  "interpreter": {
   "hash": "fcea7bec55ff6d7f3b1107f41f074eaa5711bec3d5478eb754b653bcca62ae21"
  }
 },
 "nbformat": 4,
 "nbformat_minor": 5
}