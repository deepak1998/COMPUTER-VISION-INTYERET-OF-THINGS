{
 "cells": [
  {
   "cell_type": "markdown",
   "source": [
    "# #GRIP_SEP21\r\n",
    "\r\n",
    "# NAME: DEEPAK KUMAR YADAV\r\n",
    "\r\n",
    "# TASK-3 Social Distancing Detector"
   ],
   "metadata": {}
  },
  {
   "cell_type": "code",
   "execution_count": 1,
   "source": [
    "import numpy as np\r\n",
    "import cv2\r\n",
    "import imutils\r\n",
    "import os\r\n",
    "import time"
   ],
   "outputs": [
    {
     "output_type": "error",
     "ename": "ModuleNotFoundError",
     "evalue": "No module named 'imutils'",
     "traceback": [
      "\u001b[1;31m---------------------------------------------------------------------------\u001b[0m",
      "\u001b[1;31mModuleNotFoundError\u001b[0m                       Traceback (most recent call last)",
      "\u001b[1;32m~\\AppData\\Local\\Temp/ipykernel_9292/4136598584.py\u001b[0m in \u001b[0;36m<module>\u001b[1;34m\u001b[0m\n\u001b[0;32m      1\u001b[0m \u001b[1;32mimport\u001b[0m \u001b[0mnumpy\u001b[0m \u001b[1;32mas\u001b[0m \u001b[0mnp\u001b[0m\u001b[1;33m\u001b[0m\u001b[1;33m\u001b[0m\u001b[0m\n\u001b[0;32m      2\u001b[0m \u001b[1;32mimport\u001b[0m \u001b[0mcv2\u001b[0m\u001b[1;33m\u001b[0m\u001b[1;33m\u001b[0m\u001b[0m\n\u001b[1;32m----> 3\u001b[1;33m \u001b[1;32mimport\u001b[0m \u001b[0mimutils\u001b[0m\u001b[1;33m\u001b[0m\u001b[1;33m\u001b[0m\u001b[0m\n\u001b[0m\u001b[0;32m      4\u001b[0m \u001b[1;32mimport\u001b[0m \u001b[0mos\u001b[0m\u001b[1;33m\u001b[0m\u001b[1;33m\u001b[0m\u001b[0m\n\u001b[0;32m      5\u001b[0m \u001b[1;32mimport\u001b[0m \u001b[0mtime\u001b[0m\u001b[1;33m\u001b[0m\u001b[1;33m\u001b[0m\u001b[0m\n",
      "\u001b[1;31mModuleNotFoundError\u001b[0m: No module named 'imutils'"
     ]
    }
   ],
   "metadata": {}
  },
  {
   "cell_type": "code",
   "execution_count": 2,
   "source": [
    "def Check(a,  b):\r\n",
    "    dist = ((a[0] - b[0]) ** 2 + 550 / ((a[1] + b[1]) / 2) * (a[1] - b[1]) ** 2) ** 0.5\r\n",
    "    calibration = (a[1] + b[1]) / 2       \r\n",
    "    if 0 < dist < 0.25 * calibration:\r\n",
    "        return True\r\n",
    "    else:\r\n",
    "        return False"
   ],
   "outputs": [],
   "metadata": {}
  },
  {
   "cell_type": "code",
   "execution_count": 3,
   "source": [
    "def Setup(yolo):\n",
    "    global net, ln, LABELS\n",
    "    weights = os.path.sep.join([yolo, \"yolov3.weights\"])\n",
    "    config = os.path.sep.join([yolo, \"yolov3.cfg\"])\n",
    "    labelsPath = os.path.sep.join([yolo, \"coco.names\"])\n",
    "    LABELS = open(labelsPath).read().strip().split(\"\\n\")  \n",
    "    net = cv2.dnn.readNetFromDarknet(config, weights)\n",
    "    ln = net.getLayerNames()\n",
    "    ln = [ln[i[0] - 1] for i in net.getUnconnectedOutLayers()]"
   ],
   "outputs": [],
   "metadata": {}
  },
  {
   "cell_type": "code",
   "execution_count": 4,
   "source": [
    "def ImageProcess(image):\n",
    "    global processedImg\n",
    "    (H, W) = (None, None)\n",
    "    frame = image.copy()\n",
    "    if W is None or H is None:\n",
    "        (H, W) = frame.shape[:2]\n",
    "    blob = cv2.dnn.blobFromImage(frame, 1 / 255.0, (416, 416), swapRB=True, crop=False)\n",
    "    net.setInput(blob)\n",
    "    starttime = time.time()\n",
    "    layerOutputs = net.forward(ln)\n",
    "    stoptime = time.time()\n",
    "    print(\"Video is Getting Processed at {:.4f} seconds per frame\".format((stoptime-starttime))) \n",
    "    confidences = []\n",
    "    outline = []\n",
    "    \n",
    "    for output in layerOutputs:\n",
    "        for detection in output:\n",
    "            scores = detection[5:]\n",
    "            maxi_class = np.argmax(scores)\n",
    "            confidence = scores[maxi_class]\n",
    "            if LABELS[maxi_class] == \"person\":\n",
    "                if confidence > 0.5:\n",
    "                    box = detection[0:4] * np.array([W, H, W, H])\n",
    "                    (centerX, centerY, width, height) = box.astype(\"int\")\n",
    "                    x = int(centerX - (width / 2))\n",
    "                    y = int(centerY - (height / 2))\n",
    "                    outline.append([x, y, int(width), int(height)])\n",
    "                    confidences.append(float(confidence))\n",
    "\n",
    "    box_line = cv2.dnn.NMSBoxes(outline, confidences, 0.5, 0.3)\n",
    "\n",
    "    if len(box_line) > 0:\n",
    "        flat_box = box_line.flatten()\n",
    "        pairs = []\n",
    "        center = []\n",
    "        status = [] \n",
    "        for i in flat_box:\n",
    "            (x, y) = (outline[i][0], outline[i][1])\n",
    "            (w, h) = (outline[i][2], outline[i][3])\n",
    "            center.append([int(x + w / 2), int(y + h / 2)])\n",
    "            status.append(False)\n",
    "\n",
    "        for i in range(len(center)):\n",
    "            for j in range(len(center)):\n",
    "                close = Check(center[i], center[j])\n",
    "\n",
    "                if close:\n",
    "                    pairs.append([center[i], center[j]])\n",
    "                    status[i] = True\n",
    "                    status[j] = True\n",
    "        index = 0\n",
    "\n",
    "        for i in flat_box:\n",
    "            (x, y) = (outline[i][0], outline[i][1])\n",
    "            (w, h) = (outline[i][2], outline[i][3])\n",
    "            if status[index] == True:\n",
    "                cv2.rectangle(frame, (x, y), (x + w, y + h), (0, 0, 150), 2)\n",
    "            elif status[index] == False:\n",
    "                cv2.rectangle(frame, (x, y), (x + w, y + h), (0, 255, 0), 2)\n",
    "            index += 1\n",
    "        for h in pairs:\n",
    "            cv2.line(frame, tuple(h[0]), tuple(h[1]), (0, 0, 255), 2)\n",
    "    processedImg = frame.copy()\n",
    "            "
   ],
   "outputs": [],
   "metadata": {}
  },
  {
   "cell_type": "code",
   "execution_count": 5,
   "source": [
    "create = None\n",
    "frameno = 0\n",
    "filename = \"videos/video_6.mp4\"\n",
    "yolo = \"yolo-coco/\"\n",
    "opname = \"output_videos/output_of_\" + filename.split('/')[1][:-4] + '.mp4'\n",
    "cap = cv2.VideoCapture(filename)"
   ],
   "outputs": [],
   "metadata": {}
  },
  {
   "cell_type": "code",
   "execution_count": 6,
   "source": [
    "time1 = time.time()\n",
    "while(True):\n",
    "\n",
    "    ret, frame = cap.read()\n",
    "    if not ret:\n",
    "        break\n",
    "    current_img = frame.copy()\n",
    "    current_img = imutils.resize(current_img, width=480)\n",
    "    video = current_img.shape\n",
    "    frameno += 1\n",
    "\n",
    "    if(frameno%2 == 0 or frameno == 1):\n",
    "        Setup(yolo)\n",
    "        ImageProcess(current_img)\n",
    "        Frame = processedImg\n",
    "\n",
    "        if create is None:\n",
    "            fourcc = cv2.VideoWriter_fourcc(*'XVID')\n",
    "            create = cv2.VideoWriter(opname, fourcc, 30, (Frame.shape[1], Frame.shape[0]), True)\n",
    "    create.write(Frame)\n",
    "    if cv2.waitKey(1) & 0xFF == ord('s'):\n",
    "        break\n",
    "time2 = time.time()\n",
    "print(\"Completed. Total Time Taken: {} minutes\".format((time2-time1)/60))\n",
    "\n",
    "cap.release()\n",
    "cv2.destroyAllWindows()"
   ],
   "outputs": [
    {
     "output_type": "stream",
     "name": "stdout",
     "text": [
      "Completed. Total Time Taken: 0.0002643863360087077 minutes\n"
     ]
    }
   ],
   "metadata": {}
  },
  {
   "cell_type": "code",
   "execution_count": null,
   "source": [],
   "outputs": [],
   "metadata": {}
  },
  {
   "cell_type": "code",
   "execution_count": null,
   "source": [],
   "outputs": [],
   "metadata": {}
  }
 ],
 "metadata": {
  "kernelspec": {
   "name": "python3",
   "display_name": "Python 3.9.7 64-bit (windows store)"
  },
  "language_info": {
   "codemirror_mode": {
    "name": "ipython",
    "version": 3
   },
   "file_extension": ".py",
   "mimetype": "text/x-python",
   "name": "python",
   "nbconvert_exporter": "python",
   "pygments_lexer": "ipython3",
   "version": "3.9.7"
  },
  "interpreter": {
   "hash": "fcea7bec55ff6d7f3b1107f41f074eaa5711bec3d5478eb754b653bcca62ae21"
  }
 },
 "nbformat": 4,
 "nbformat_minor": 5
}